{
 "cells": [
  {
   "cell_type": "code",
   "execution_count": 1,
   "metadata": {},
   "outputs": [],
   "source": [
    "import json"
   ]
  },
  {
   "cell_type": "code",
   "execution_count": 2,
   "metadata": {},
   "outputs": [],
   "source": [
    "def json_load_file(file):\n",
    "    \"\"\"\n",
    "    Returns a Python's dict from a json file path.\n",
    "    \"\"\"\n",
    "    with open(file) as json_file:\n",
    "        return json.load(json_file)"
   ]
  },
  {
   "cell_type": "code",
   "execution_count": 3,
   "metadata": {},
   "outputs": [],
   "source": [
    "def make_students_ids_map(object_json):\n",
    "    \"\"\"\n",
    "    Creates a mapping from student id (number) to its hash.\n",
    "    \n",
    "    For example:\n",
    "    1 -> TTA3wnBvnrgbegTGL\n",
    "    2 -> YR3xW7MSKf3Cn32g8\n",
    "    ...\n",
    "    \"\"\"\n",
    "    result = {}\n",
    "    for student_hash, student_name in object_json[\"globalStructure\"][\"students\"].items():\n",
    "        try:\n",
    "            student_id = int(student_name)\n",
    "            result[student_id] = student_hash\n",
    "        except ValueError:\n",
    "            pass\n",
    "    return result"
   ]
  },
  {
   "cell_type": "code",
   "execution_count": 4,
   "metadata": {},
   "outputs": [],
   "source": [
    "def get_payload(product_json):\n",
    "    \"\"\"\n",
    "    Gets either product_json[\"payload\"] or product_json[\"activityData\"][\"payload\"] (!)\n",
    "    \"\"\"\n",
    "    if \"activityData\" in product_json:\n",
    "        return product_json[\"activityData\"][\"payload\"]\n",
    "    return product_json[\"payload\"]"
   ]
  },
  {
   "cell_type": "code",
   "execution_count": 5,
   "metadata": {},
   "outputs": [],
   "source": [
    "def extract_answers(questions_json):\n",
    "    \"\"\"\n",
    "    Parses answers from a questions JSON ({\"answersIndex\": number[], \"form\": ...}) to an well-formed array.\n",
    "    \"\"\"\n",
    "    result = []\n",
    "    for i, answer_index in enumerate(questions_json[\"answersIndex\"]):\n",
    "        if answer_index == -1:\n",
    "            if str(i) in questions_json[\"form\"]:\n",
    "                result.append(questions_json[\"form\"][str(i)][\"text\"])\n",
    "            else:\n",
    "                result.append(None)\n",
    "        else:\n",
    "            result.append(answer_index)\n",
    "    return result"
   ]
  },
  {
   "cell_type": "code",
   "execution_count": 6,
   "metadata": {},
   "outputs": [],
   "source": [
    "def make_students_answers_map(students_ids_map, product_json):\n",
    "    \"\"\"\n",
    "    Creates a mapping from student id (number) to its answers (array).\n",
    "    \n",
    "    For example:\n",
    "    1 -> [\"<?-+>?\", \"[0-9]*[0,2,4,6,8]\", ...]\n",
    "    ...\n",
    "    \"\"\"\n",
    "    result = {}\n",
    "    for student_id, student_hash in students_ids_map.items():\n",
    "        answers = extract_answers(get_payload(product_json)[student_hash][\"data\"])\n",
    "        if answers[0] or answers[5]: # only if answers is not empty\n",
    "            result[student_id] = answers\n",
    "    return result"
   ]
  },
  {
   "cell_type": "code",
   "execution_count": 7,
   "metadata": {},
   "outputs": [],
   "source": [
    "for school in [\"piccard\", \"beaulieu\"]:\n",
    "    data_path = f\"../data/raw/{school}/ac/5-final-quizz/\"\n",
    "    students_ids_map = make_students_ids_map(json_load_file(f\"{data_path}object.json\"))\n",
    "    students_answers = make_students_answers_map(students_ids_map, json_load_file(f\"{data_path}product.json\"))\n",
    "    output_path = f\"../data/derived/{school}/final_quizz.json\"\n",
    "    with open(output_path, 'w+') as output_file:\n",
    "        json.dump(students_answers, output_file, sort_keys=True, indent=4)"
   ]
  },
  {
   "cell_type": "code",
   "execution_count": null,
   "metadata": {},
   "outputs": [],
   "source": []
  }
 ],
 "metadata": {
  "kernelspec": {
   "display_name": "Python 3",
   "language": "python",
   "name": "python3"
  },
  "language_info": {
   "codemirror_mode": {
    "name": "ipython",
    "version": 3
   },
   "file_extension": ".py",
   "mimetype": "text/x-python",
   "name": "python",
   "nbconvert_exporter": "python",
   "pygments_lexer": "ipython3",
   "version": "3.7.2"
  }
 },
 "nbformat": 4,
 "nbformat_minor": 2
}
