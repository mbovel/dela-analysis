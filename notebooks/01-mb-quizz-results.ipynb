{
 "cells": [
  {
   "cell_type": "code",
   "execution_count": 1,
   "metadata": {},
   "outputs": [],
   "source": [
    "import json"
   ]
  },
  {
   "cell_type": "code",
   "execution_count": 2,
   "metadata": {},
   "outputs": [],
   "source": [
    "def json_load_file(file):\n",
    "    \"\"\"\n",
    "    Returns a Python's dict from a json file path.\n",
    "    \"\"\"\n",
    "    with open(file) as json_file:\n",
    "        return json.load(json_file)"
   ]
  },
  {
   "cell_type": "code",
   "execution_count": 3,
   "metadata": {},
   "outputs": [],
   "source": [
    "def make_students_ids_map(object_json):\n",
    "    \"\"\"\n",
    "    Creates a mapping from student id (number) to its hash.\n",
    "    \n",
    "    For example:\n",
    "    1 -> TTA3wnBvnrgbegTGL\n",
    "    2 -> YR3xW7MSKf3Cn32g8\n",
    "    ...\n",
    "    \"\"\"\n",
    "    result = {}\n",
    "    for student_hash, student_name in object_json[\"globalStructure\"][\"students\"].items():\n",
    "        try:\n",
    "            student_id = int(student_name)\n",
    "            result[student_id] = student_hash\n",
    "        except ValueError:\n",
    "            pass\n",
    "    return result"
   ]
  },
  {
   "cell_type": "code",
   "execution_count": 4,
   "metadata": {},
   "outputs": [],
   "source": [
    "def get_payload(product_json):\n",
    "    \"\"\"\n",
    "    Gets either product_json[\"payload\"] or product_json[\"activityData\"][\"payload\"] (!)\n",
    "    \"\"\"\n",
    "    if \"activityData\" in product_json:\n",
    "        return product_json[\"activityData\"][\"payload\"]\n",
    "    return product_json[\"payload\"]"
   ]
  },
  {
   "cell_type": "code",
   "execution_count": 5,
   "metadata": {},
   "outputs": [],
   "source": [
    "def extract_answers(questions_json):\n",
    "    \"\"\"\n",
    "    Parses answers from a questions JSON ({\"answersIndex\": number[], \"form\": ...}) to an well-formed array.\n",
    "    \"\"\"\n",
    "    result = []\n",
    "    for i, answer_index in enumerate(questions_json[\"answersIndex\"]):\n",
    "        if answer_index == -1:\n",
    "            if str(i) in questions_json[\"form\"]:\n",
    "                result.append(questions_json[\"form\"][str(i)][\"text\"])\n",
    "            else:\n",
    "                result.append(None)\n",
    "        else:\n",
    "            result.append(answer_index)\n",
    "    return result"
   ]
  },
  {
   "cell_type": "code",
   "execution_count": 6,
   "metadata": {},
   "outputs": [],
   "source": [
    "def make_students_answers_map(students_ids_map, product_json):\n",
    "    \"\"\"\n",
    "    Creates a mapping from student id (number) to its answers (array).\n",
    "    \n",
    "    For example:\n",
    "    1 -> [\"<?-+>?\", \"[0-9]*[0,2,4,6,8]\", ...]\n",
    "    ...\n",
    "    \"\"\"\n",
    "    result = {}\n",
    "    for student_id, student_hash in students_ids_map.items():\n",
    "        answers = extract_answers(get_payload(product_json)[student_hash][\"data\"])\n",
    "        if answers[0]: # only if answers is not empty\n",
    "            result[student_id] = answers\n",
    "    return result"
   ]
  },
  {
   "cell_type": "code",
   "execution_count": 7,
   "metadata": {},
   "outputs": [
    {
     "name": "stdout",
     "output_type": "stream",
     "text": [
      "{1: [\"(\\\\<)?(\\\\-)+(\\\\>)?\\n\\nJ'ai bien aimé cette présentation car elle était ludique.\", '[0-9]+[0|2|4|6|8]', '[0-9]+(\\\\.[0-9]+)?', 'Hey o\\nHeyHey o\\nHeyHey UhUh\\nHeyHey ooo\\nHeyHey Uh', 1, 2, None], 2: ['(\\\\<)?(\\\\-)+(\\\\>)?\\n\\n\\nChouette cours, les notions sont explicitées de manière extrêmement compréhensible, le concours est cool, merci!!', '[1-9]*[2|4|6|8|0]', '[0-9]+(\\\\.)?[0-9]+', 'Hey, HeyHey O, HeyHeyUh, HeyHey Uh, HeyHeyHeyUh,', 1, 2, None], 10: ['<?+?>+?-', '[0-9]*[2,4,6,8]', '[0-9]?, [0-9]', 'Hey 0, Hey Uh, Hey Hey O, Hey Hey Uh, Hey Hey Hey O', 1, 2, None], 11: ['<?-+>?', '[0-9]*[0,2,4,6,8]', '([1-9]|0) (.|,)?[0-9]*', \"Hey O,\\nHey,\\nHeyHey Uh,\\nHeyHeyHey,\\nHeyHey O\\n#Cours sympa, beaucoup aimé l'idée de compétition de plus le fait de devoir expliquer aux autres nous permet de mieux assimiler la théorie et les exercices permettent de mieux comprendre ce que les autres nous ont expliqués.\", 1, 2, None], 7: ['<?-+>?', '[0-9]+(0|2|4|6|8)', '[0-9]+(.|,)[0-9]+', 'Hey\\nHey Hey\\nHey Uh\\nHey Uh Uh\\nHey Hey O Uh', 0, 2, None], 8: ['[-]+[<]?[>]?', '[0-9]+[0|2|4|6]', '[0-9]+.[0-9]*', 'Hey,Hey , HeyO, Hey O, Hey Uh', 0, 2, None], 9: ['[<|>|-][-]+[<|>]', '[0-9]+[0|2|4|6|8]\\n', '[0-9]+[.][0-9]*', 'Hey O, Hey Hey Hey, Hey Hey Uh', 1, 2, None], 13: ['[<|][-]*[>|]', '[0-9]+[0-8]', '[0-]', 'Hey', 0, 2, None], 14: ['[\\\\<| - {1, } | \\\\>]', '[[0-9]| [0, 2, 4, 6, 8 ]', '[0-9\\\\ . \\\\, 0-9]', 'Hey O, Hey Uh, Heyy O, Heyyy O, Heyyyy O\\n', 1, 2, None], 15: ['[\\\\<\\\\>\\\\-]', '[0|2|4|6|8]', '', 'Hey O\\nHeyy O\\nHeyyy O\\nHey Uh', 1, 2, None], 3: ['[<|>]?[-]+[<|>]?\\n\\nBon concept de pouvoir interagir avec les autres groupes, sujet intéressant, concours avec les boules Lindt très instructif ;) Merci!\\n', '[2,4,6,8]?[0,2,4,6,8]+', '[0-9],[0-9]?', 'Hey, Hey O, Hey Uh, Hey UhUh, Hey OhOh', 1, 2, None], 12: ['\\\\<? -+ \\\\>?', '2{0,}', '[0-9]* (,)|(.) [0-9]*', 'Hey O, HeyHeyUh, HeyUhUhUh, HeyHeyHey OOOOOOO, HeyUh', 0, 0, None]}\n",
      "{1: ['<?\\\\-+>?', '', '[0-9]+(.|,)?[0-9]', 'Hey, HeyHey, Hey O, HeyUh, HeyOO', 0, 2, 'eh mercee pour le choco'], 2: ['<?\\\\-+>?', '', '', 'Hey, HeyHey, HeyHeyHey, HeyHeyHeyHey, HeyHeyHeyHeyHey', 1, 2, 'Propre le bail '], 6: ['<?\\\\-+>?', '[0,2,4,6,8]+', '[0-9]+(\\\\,|\\\\.)[0-9]?', 'Heyo, Heyy Uh, Heyyy , Heyyy o, Heyyyyyyy,', 0, 2, 'Super chouette et intéressant !!!!'], 4: ['<?-+>?\\n', '(\\\\1\\\\1)+', '[0-9]*,[0-9]*', 'Hey OOOOOOOO', 1, 2, 'Franchement, propre le bail.'], 5: ['<?-+>?', '2?4?6?8?', '[0-9]+(\\\\.[0-9]+)?', 'HeyHey, , Hey0, Uh', 1, 2, 'mieux que les normaux'], 11: ['(<->)+', '(2,)', '[0-9]+', 'HeyO Uh, Hey OUh, HeyHeyO Uh, HeyHey OUh, HeyHeyHeyO Uh', 0, 2, 'Divertissant et intéressant '], 7: ['<?-+>?', '([1-9][0-9]*[02468])|[02468]', '([0-9]+[.,][0-9]+)|([0-9]+)', 'Hey O, HeyHeyHeyUhUhUh, HeyHey , Hey, HeyHeyOOOOOOOOO', 1, 2, 'Très intéressante et divertissante, le concept d’expression régulière est très fun'], 8: ['(<|>)?+[\\\\-]+', '[1-9]{1,}', '[0-9]+\\\\,|\\\\.[0-9]+', 'Hey Hey o, Hey o, Hey Uh, Hey Uh Uh, Hey Uh Uh Uh', 0, 2, 'cool'], 9: ['<?[1,]>?', '[1-9]{1,}[2]', '[0-9]{1,};?[0-9]{1,}', 'Hey uh Hey o Hey Hey o Hey Hey uh Hey ooooooooooooooooooooooooooooooooooooooooooooooo\\n\\n\\n\\n', 0, 2, 'sympa le chocolat est bon :)'], 13: ['(<}?(-)+(>)?', '[1-9]*(2|4|6|8|0)', '[0-9]+(.|,)[0-9]*', 'Hey,Hey O,HeyO,Hey Uh,HeyUh\\n', 1, 2, \"C'étai vraiment sympa, surtout le chocolat.\"], 14: ['(-){1,}|(<)(-){1,}', '(1-9)*(2|4|6|8|0)', '[0-9]{1,}.[0-9]{1,}', 'Hey o, Hey Hey o, Hey Uh, Hey Hey Uh, Hey', 0, 2, \"C'est hyper sympa d'apprendre de cette manière ça change de d'habitude et c'est plus interactif, on voit moins le temps passé\"], 15: ['<?-+>?', '[0-9]*[0,2,4,6,8]', '[0-9]+([.,\\\\,][0-9]+)?', 'Hey OOOO, HeyHeyHey, HeyHeyHeyUhUhUh, HeyHeyHeyHeyHeyHeyHey, HeyHeyOOO', 0, 2, 'intéressant'], 3: ['<?-+>?', '[1-9]+[02468]', '[0-9]+[.|,][0-9]+', 'HeyO, Hey O, HeyUh, Hey Uh, HeyHey', 0, 2, \"Un cours d'informatique meilleur que d'habitude.\"], 12: ['[<\\\\>\\\\]?[-]{1,}[<\\\\>\\\\]?', '2\\\\+2\\\\+', '[0-9]+', 'HeyO, Hey O, Hey Uh, HeyHeyHeyHeyHey O, HeyHeyHeyHeyHeyHeyHeyHeyHeyHeyHeyO', 0, 2, '[10]+ / 10\\\\    (10/10) nrvax o max'], 19: ['<?-+>?', '([2468])|([1-9][0-9]*[02468])', '([0-9]*.[0-9]*)|([0-9]*,[0-9]*)', 'Hey,HeyHey,HeyHeyHey,HeyHeyHeyHey,Hey Oh', 1, 0, \"Très intéressant, avec l'outil informatique de Frog c'était très pratique. \"], 16: ['<?-+>?', '[0-9]*[0,2,4,6,8]', '[0-9]+([\\\\,,.][0-9]+)?', 'Hey,HeyHey,HeyHeyHey,HeyHeyHeyHey,HeyHeyHeyHeyHey', 0, 2, 'Original, assez efficace, sympa'], 20: ['(\\\\<)?(\\\\-)+(\\\\>)?', '[0-9]+[02468]', '([0-9]+)?(.|,)?[0-9]+', 'Hey\\nHey Hey\\nHey Hey Hey\\nHey Hey Hey Hey\\nHey Hey Hey Hey Hey', 0, 2, 'Au top\\n'], 21: ['<?[\\\\-]+>?', '[0-9]+[02468]', '[0-9]+(.|,[0-9]+)?', 'HeyHeyHey oooo, Hey, HeyHeyUhUh', 1, 2, \"C'était très intéressant\"], 18: ['{<}[-]{1, }{>}', '[0-9]{1, }[0,2,4,6,8]', '\\n', '', 0, 2, 'Intéressant mais trop difficile '], 22: ['<?(\\\\-)+>?', '2\\\\*(1|2)+', '[0-9](\\\\.|,[0-9])?', 'Hey, Hey , HeyO, HeyUhUh, Hey OO', 0, 2, \"C''était assez amusant de découvrir de nouvelles choses qui me serviront peut-être plus tard. Merci !\"], 17: ['(<|-)(-)(>|-)', '[n*2]', '', '', 0, 2, \"très instructive et très bon moyen d'interaction avec la classe\"]}\n"
     ]
    }
   ],
   "source": [
    "for school in [\"piccard\", \"beaulieu\"]:\n",
    "    data_path = f\"../data/{school}/ac/5-final-quizz/\"\n",
    "    students_ids_map = make_students_ids_map(json_load_file(f\"{data_path}object.json\"))\n",
    "    students_answers = make_students_answers_map(students_ids_map, json_load_file(f\"{data_path}product.json\"))\n",
    "    print(students_answers)"
   ]
  }
 ],
 "metadata": {
  "kernelspec": {
   "display_name": "Python 3",
   "language": "python",
   "name": "python3"
  },
  "language_info": {
   "codemirror_mode": {
    "name": "ipython",
    "version": 3
   },
   "file_extension": ".py",
   "mimetype": "text/x-python",
   "name": "python",
   "nbconvert_exporter": "python",
   "pygments_lexer": "ipython3",
   "version": "3.7.2"
  }
 },
 "nbformat": 4,
 "nbformat_minor": 2
}
