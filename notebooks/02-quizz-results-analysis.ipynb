{
 "cells": [
  {
   "cell_type": "code",
   "execution_count": 1,
   "metadata": {},
   "outputs": [],
   "source": [
    "import json\n",
    "import pandas as pd\n",
    "import matplotlib.pyplot as plt\n",
    "%matplotlib inline\n",
    "#plt.rcParams['figure.figsize'] = [10, 5]\n",
    "plt.rcParams['figure.dpi'] = 300"
   ]
  },
  {
   "cell_type": "code",
   "execution_count": 2,
   "metadata": {},
   "outputs": [],
   "source": [
    "def json_load_file(file):\n",
    "    \"\"\"\n",
    "    Returns a Python's dict from a json file path.\n",
    "    \"\"\"\n",
    "    with open(file) as json_file:\n",
    "        return json.load(json_file)"
   ]
  },
  {
   "cell_type": "code",
   "execution_count": 3,
   "metadata": {},
   "outputs": [],
   "source": [
    "def to_panda_dataframe(scores_json):\n",
    "    data = [[student_id, *map(float, scores[:5]), scores[5]] for student_id, scores in scores_json.items()]\n",
    "    df = pd.DataFrame.from_records(data, columns = [\"Student ID\", *[f\"Question {i}\" for i in range(1,7)]])\n",
    "    df[\"Score\"] = df[\"Question 1\"] + df[\"Question 2\"] + df[\"Question 3\"] + df[\"Question 4\"] + df['Question 5']\n",
    "    df[\"Chapter\"] = df[\"Student ID\"].apply(lambda x: (int(x) - 1)%3 + 1)\n",
    "    df[\"Method\"] = df[\"Student ID\"].apply(lambda x: 0 if int(x) <= 9 else 1)\n",
    "    return df"
   ]
  },
  {
   "cell_type": "code",
   "execution_count": 4,
   "metadata": {},
   "outputs": [],
   "source": [
    "def read_dataframe(school):\n",
    "    return to_panda_dataframe(json_load_file(f\"../data/manual/{school}/final_quizz_scores.json\"))"
   ]
  },
  {
   "cell_type": "code",
   "execution_count": 5,
   "metadata": {},
   "outputs": [],
   "source": [
    "piccard_data = read_dataframe(\"piccard\")\n",
    "beaulieu_data = read_dataframe(\"beaulieu\")"
   ]
  },
  {
   "cell_type": "code",
   "execution_count": 6,
   "metadata": {},
   "outputs": [],
   "source": [
    "data = pd.concat([piccard_data, beaulieu_data])"
   ]
  },
  {
   "cell_type": "markdown",
   "metadata": {},
   "source": [
    "## Exploration"
   ]
  },
  {
   "cell_type": "code",
   "execution_count": 7,
   "metadata": {},
   "outputs": [
    {
     "data": {
      "text/html": [
       "<div>\n",
       "<style scoped>\n",
       "    .dataframe tbody tr th:only-of-type {\n",
       "        vertical-align: middle;\n",
       "    }\n",
       "\n",
       "    .dataframe tbody tr th {\n",
       "        vertical-align: top;\n",
       "    }\n",
       "\n",
       "    .dataframe thead th {\n",
       "        text-align: right;\n",
       "    }\n",
       "</style>\n",
       "<table border=\"1\" class=\"dataframe\">\n",
       "  <thead>\n",
       "    <tr style=\"text-align: right;\">\n",
       "      <th></th>\n",
       "      <th>count</th>\n",
       "      <th>mean</th>\n",
       "      <th>std</th>\n",
       "      <th>min</th>\n",
       "      <th>25%</th>\n",
       "      <th>50%</th>\n",
       "      <th>75%</th>\n",
       "      <th>max</th>\n",
       "    </tr>\n",
       "    <tr>\n",
       "      <th>Method</th>\n",
       "      <th></th>\n",
       "      <th></th>\n",
       "      <th></th>\n",
       "      <th></th>\n",
       "      <th></th>\n",
       "      <th></th>\n",
       "      <th></th>\n",
       "      <th></th>\n",
       "    </tr>\n",
       "  </thead>\n",
       "  <tbody>\n",
       "    <tr>\n",
       "      <th>0</th>\n",
       "      <td>15.0</td>\n",
       "      <td>2.253333</td>\n",
       "      <td>1.244340</td>\n",
       "      <td>0.6</td>\n",
       "      <td>1.2</td>\n",
       "      <td>2.0</td>\n",
       "      <td>2.95</td>\n",
       "      <td>5.0</td>\n",
       "    </tr>\n",
       "    <tr>\n",
       "      <th>1</th>\n",
       "      <td>19.0</td>\n",
       "      <td>1.736842</td>\n",
       "      <td>1.370406</td>\n",
       "      <td>0.0</td>\n",
       "      <td>0.6</td>\n",
       "      <td>1.4</td>\n",
       "      <td>3.00</td>\n",
       "      <td>4.0</td>\n",
       "    </tr>\n",
       "  </tbody>\n",
       "</table>\n",
       "</div>"
      ],
      "text/plain": [
       "        count      mean       std  min  25%  50%   75%  max\n",
       "Method                                                     \n",
       "0        15.0  2.253333  1.244340  0.6  1.2  2.0  2.95  5.0\n",
       "1        19.0  1.736842  1.370406  0.0  0.6  1.4  3.00  4.0"
      ]
     },
     "execution_count": 7,
     "metadata": {},
     "output_type": "execute_result"
    }
   ],
   "source": [
    "data.groupby(\"Method\")[\"Score\"].describe()"
   ]
  },
  {
   "cell_type": "markdown",
   "metadata": {},
   "source": [
    "### Distribution of students results for the quiz"
   ]
  },
  {
   "cell_type": "code",
   "execution_count": 8,
   "metadata": {},
   "outputs": [
    {
     "data": {
      "image/png": "[encoded data removed]",
      "text/plain": [
       "<Figure size 720x432 with 1 Axes>"
      ]
     },
     "metadata": {
      "needs_background": "light"
     },
     "output_type": "display_data"
    }
   ],
   "source": [
    "fig, ax = plt.subplots(figsize=(10, 6))\n",
    "data.groupby('Method')['Score'].hist(alpha=0.4, bins=5, ax=ax)\n",
    "ax.legend(['Text', 'Video'])\n",
    "ax.set_ylabel('# Students')\n",
    "ax.set_xlabel('Score')\n",
    "ax.set_title('Student score distribution for the quiz')\n",
    "fig.savefig(f\"../data/derived/hist_quiz.jpg\")"
   ]
  },
  {
   "cell_type": "markdown",
   "metadata": {},
   "source": [
    "## Box-plot of results grouped by method"
   ]
  },
  {
   "cell_type": "code",
   "execution_count": 9,
   "metadata": {},
   "outputs": [
    {
     "data": {
      "image/png": "[encoded data removed]",
      "text/plain": [
       "<Figure size 432x360 with 1 Axes>"
      ]
     },
     "metadata": {
      "needs_background": "light"
     },
     "output_type": "display_data"
    }
   ],
   "source": [
    "fig, ax = plt.subplots(figsize=(6,5))\n",
    "data.boxplot(column='Score', by='Method', ax=ax)\n",
    "ax.set_xticklabels(labels=['Text', 'Video'])\n",
    "ax.set_ylabel('Score')\n",
    "fig.savefig(f\"../data/derived/box_plot_quiz.jpg\")"
   ]
  },
  {
   "cell_type": "markdown",
   "metadata": {},
   "source": [
    "# Statistical tests\n",
    "Recall our hypothesis:\n",
    "- $\\mathcal{H}_0$: There is no influence of the method on the results (same mean)\n",
    "- $\\mathcal{H}_1$: There is an influence of the method on the results (double tailed test)\n",
    "\n",
    "We first want to check if our distribution could be normal (even if they don't really look like that)\n",
    "\n",
    "Use Shapiro normality test with significance level of $0.1$:"
   ]
  },
  {
   "cell_type": "code",
   "execution_count": 10,
   "metadata": {},
   "outputs": [],
   "source": [
    "from scipy.stats import mstats, shapiro"
   ]
  },
  {
   "cell_type": "code",
   "execution_count": 11,
   "metadata": {},
   "outputs": [
    {
     "name": "stdout",
     "output_type": "stream",
     "text": [
      "Text (0.9442788362503052, 0.43922388553619385)\n",
      "Video (0.9137222766876221, 0.08666303008794785)\n"
     ]
    }
   ],
   "source": [
    "print('Text', shapiro(data[data.Method == 0].Score))\n",
    "print('Video', shapiro(data[data.Method == 1].Score))"
   ]
  },
  {
   "cell_type": "markdown",
   "metadata": {},
   "source": [
    "As the p-value for video is smaller than 0.1 we have to rejet the null hypothesis of the Shapiro test, hence the results of the Video group may not be normally distributed. Hence we need to use a non-parametric Test.\n",
    "\n",
    "We thus use **Kruskal-Wallis** "
   ]
  },
  {
   "cell_type": "code",
   "execution_count": 12,
   "metadata": {},
   "outputs": [
    {
     "data": {
      "text/plain": [
       "KruskalResult(statistic=0.9814917127071909, pvalue=0.32183080361992833)"
      ]
     },
     "execution_count": 12,
     "metadata": {},
     "output_type": "execute_result"
    }
   ],
   "source": [
    "mstats.kruskalwallis(data[data.Method == 0].Score.to_numpy(), data[data.Method == 1].Score.to_numpy())"
   ]
  },
  {
   "cell_type": "markdown",
   "metadata": {},
   "source": [
    "Because the assumption of normality of the video results was not respected (W = 0.9137, p-value < .1) in our sample, we conducted a **non-parametric Kruskal-Wallis test** that showed that the mean rank of quiz results doesn't differs significantly across groups ($\\chi^2$[1]=0.9815, p = .32)"
   ]
  }
 ],
 "metadata": {
  "kernelspec": {
   "display_name": "Python 3",
   "language": "python",
   "name": "python3"
  },
  "language_info": {
   "codemirror_mode": {
    "name": "ipython",
    "version": 3
   },
   "file_extension": ".py",
   "mimetype": "text/x-python",
   "name": "python",
   "nbconvert_exporter": "python",
   "pygments_lexer": "ipython3",
   "version": "3.7.4"
  }
 },
 "nbformat": 4,
 "nbformat_minor": 4
}
